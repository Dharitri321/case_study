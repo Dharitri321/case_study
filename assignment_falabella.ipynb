{
 "cells": [
  {
   "cell_type": "code",
   "execution_count": null,
   "id": "26ee0282-188b-4c6e-ad1c-ee4b2f42afc7",
   "metadata": {},
   "outputs": [],
   "source": [
    "# You need to solve this assignment in four parts:\n",
    "\n",
    "# Consolidation of similar hotel amenities\n",
    "# Entity extraction of amenities from description\n",
    "# Extract info - distance from nearest airport/railway station/bus stand in separate column\n",
    "# Provide a way for us to test different hotel descriptions and your code should provide us the amenities on our holdout set.\n",
    "# This can be you provide us a text file or notebook which runs your code on it and provide us output."
   ]
  },
  {
   "cell_type": "markdown",
   "id": "b07081bf-a52c-4bff-a4af-d61d1faa7408",
   "metadata": {},
   "source": [
    "# Import libraries"
   ]
  },
  {
   "cell_type": "code",
   "execution_count": 1,
   "id": "d4f0f0da-cc91-487e-a570-f32f071c65b1",
   "metadata": {},
   "outputs": [
    {
     "name": "stderr",
     "output_type": "stream",
     "text": [
      "[nltk_data] Downloading package stopwords to\n",
      "[nltk_data]     /Users/dharitripanigrahy/nltk_data...\n",
      "[nltk_data]   Package stopwords is already up-to-date!\n"
     ]
    }
   ],
   "source": [
    "import pandas as pd\n",
    "import numpy as np\n",
    "import matplotlib.pyplot as plt\n",
    "import nltk\n",
    "import re\n",
    "import wordninja\n",
    "nltk.download('stopwords')\n",
    "from nltk.corpus import stopwords\n",
    "from nltk.stem import LancasterStemmer, WordNetLemmatizer\n",
    "from sklearn.feature_extraction.text import CountVectorizer\n",
    "from sklearn.cluster import KMeans\n",
    "from sklearn import metrics\n",
    "from sklearn.cluster import AgglomerativeClustering\n",
    "import spacy\n",
    "import random\n",
    "from spacy.util import minibatch, compounding\n",
    "\n",
    "\n",
    "\n",
    "\n",
    "#pd.set_option('display.max_colwidth', None)"
   ]
  },
  {
   "cell_type": "markdown",
   "id": "c793e84a-61ce-48ae-9f51-d068cd44269e",
   "metadata": {},
   "source": [
    "# Read data"
   ]
  },
  {
   "cell_type": "code",
   "execution_count": 2,
   "id": "f102df1e-0c33-49ef-a202-f32447867f11",
   "metadata": {},
   "outputs": [
    {
     "data": {
      "text/html": [
       "<div>\n",
       "<style scoped>\n",
       "    .dataframe tbody tr th:only-of-type {\n",
       "        vertical-align: middle;\n",
       "    }\n",
       "\n",
       "    .dataframe tbody tr th {\n",
       "        vertical-align: top;\n",
       "    }\n",
       "\n",
       "    .dataframe thead th {\n",
       "        text-align: right;\n",
       "    }\n",
       "</style>\n",
       "<table border=\"1\" class=\"dataframe\">\n",
       "  <thead>\n",
       "    <tr style=\"text-align: right;\">\n",
       "      <th></th>\n",
       "      <th>hotel_ameneties</th>\n",
       "      <th>property_description</th>\n",
       "    </tr>\n",
       "  </thead>\n",
       "  <tbody>\n",
       "    <tr>\n",
       "      <th>0</th>\n",
       "      <td>Hot &amp; Cold water|Credit cards accepted|Airpor...</td>\n",
       "      <td>New Soul Kiss Group of Houseboats |New Soul Ki...</td>\n",
       "    </tr>\n",
       "    <tr>\n",
       "      <th>1</th>\n",
       "      <td>Hot/cold Water |Parking Facility| Shower Area...</td>\n",
       "      <td>Hotel Raj International |Hotel Raj Internation...</td>\n",
       "    </tr>\n",
       "    <tr>\n",
       "      <th>2</th>\n",
       "      <td>Backup generator|Indoor Multi Cuisine Restaura...</td>\n",
       "      <td>Avisa Nila Beach Resort | Avisa Nila Beach Res...</td>\n",
       "    </tr>\n",
       "    <tr>\n",
       "      <th>3</th>\n",
       "      <td>Business centre|WiFiBathroom Toiletries |Baker...</td>\n",
       "      <td>Mayflower Hotel |Occupying a prime location on...</td>\n",
       "    </tr>\n",
       "    <tr>\n",
       "      <th>4</th>\n",
       "      <td>Dining Table|Geyser In Bathroom|Bathroom Toile...</td>\n",
       "      <td>The Zara Residency Hotel Located in the heart ...</td>\n",
       "    </tr>\n",
       "  </tbody>\n",
       "</table>\n",
       "</div>"
      ],
      "text/plain": [
       "                                     hotel_ameneties  \\\n",
       "0   Hot & Cold water|Credit cards accepted|Airpor...   \n",
       "1   Hot/cold Water |Parking Facility| Shower Area...   \n",
       "2  Backup generator|Indoor Multi Cuisine Restaura...   \n",
       "3  Business centre|WiFiBathroom Toiletries |Baker...   \n",
       "4  Dining Table|Geyser In Bathroom|Bathroom Toile...   \n",
       "\n",
       "                                property_description  \n",
       "0  New Soul Kiss Group of Houseboats |New Soul Ki...  \n",
       "1  Hotel Raj International |Hotel Raj Internation...  \n",
       "2  Avisa Nila Beach Resort | Avisa Nila Beach Res...  \n",
       "3  Mayflower Hotel |Occupying a prime location on...  \n",
       "4  The Zara Residency Hotel Located in the heart ...  "
      ]
     },
     "execution_count": 2,
     "metadata": {},
     "output_type": "execute_result"
    }
   ],
   "source": [
    "data = pd.read_csv('assignment_hotel_training.csv')\n",
    "data.head()"
   ]
  },
  {
   "cell_type": "code",
   "execution_count": 3,
   "id": "7c3f8958-fbae-4bd2-858d-36db46f44ecd",
   "metadata": {},
   "outputs": [
    {
     "data": {
      "text/plain": [
       "(8750, 2)"
      ]
     },
     "execution_count": 3,
     "metadata": {},
     "output_type": "execute_result"
    }
   ],
   "source": [
    "data.shape"
   ]
  },
  {
   "cell_type": "code",
   "execution_count": 4,
   "id": "d849f49d-d5ba-4867-9fd0-cc16c4f90779",
   "metadata": {},
   "outputs": [
    {
     "data": {
      "text/plain": [
       "'Hotel Raj International |Hotel Raj International is a budget property, located at an accessible distance from Airport, Railway Station and Bus Station.| An economy class hotel offers accommodation in hygienic environment with necessary day to day requirement. The property renders facilities like doctor on call (on request), travel desk and parking. Chargeable services include airport transfer, laundry service, taxi services and railway station transfer.| In room amenities cable television, intercom, mineral water (chargeable), iron and ironing board (on request), daily newspaper, study table and bathroom with shower area and hot/cold water toiletries.| The hotel is also an ideal place for those who come for sightseeing purposes as the hotel is very near to many sightseeing places that include Jaisalmer Fort, Bada Bagh, Salim Singh Ki Haveli, Gadsisar Lake and Tazia Tower.| Experience a comfortable and memorable stay with warm hospitality at Hotel Raj International!| '"
      ]
     },
     "execution_count": 4,
     "metadata": {},
     "output_type": "execute_result"
    }
   ],
   "source": [
    "data.iloc[1,1]"
   ]
  },
  {
   "cell_type": "code",
   "execution_count": 5,
   "id": "322bdb21-5ac7-4bf1-8e4a-cfcc7cb89aab",
   "metadata": {},
   "outputs": [
    {
     "data": {
      "text/plain": [
       "' Hot/cold Water |Parking Facility| Shower Area | Mineral Water |Airport Transfer|Railway Station Transfer| Bathroom Toiletries | Study Table | Intercom Facility |Laundry Service| Cable T V | Daily Newspaper |Doctor on Call| Iron|Taxi ServicesIroning Board '"
      ]
     },
     "execution_count": 5,
     "metadata": {},
     "output_type": "execute_result"
    }
   ],
   "source": [
    "data.iloc[1,0]"
   ]
  },
  {
   "cell_type": "markdown",
   "id": "3e292c76-aeff-4d89-9b7a-af2cd2f9c56f",
   "metadata": {},
   "source": [
    "# 1. Consolidating Similar aminities (Clustering)"
   ]
  },
  {
   "cell_type": "code",
   "execution_count": 6,
   "id": "2dfd55fe-fa58-4eee-bd14-3430a6bfcdba",
   "metadata": {},
   "outputs": [
    {
     "data": {
      "text/html": [
       "<div>\n",
       "<style scoped>\n",
       "    .dataframe tbody tr th:only-of-type {\n",
       "        vertical-align: middle;\n",
       "    }\n",
       "\n",
       "    .dataframe tbody tr th {\n",
       "        vertical-align: top;\n",
       "    }\n",
       "\n",
       "    .dataframe thead th {\n",
       "        text-align: right;\n",
       "    }\n",
       "</style>\n",
       "<table border=\"1\" class=\"dataframe\">\n",
       "  <thead>\n",
       "    <tr style=\"text-align: right;\">\n",
       "      <th></th>\n",
       "      <th>hotel_ameneties</th>\n",
       "      <th>property_description</th>\n",
       "      <th>cleaened_aminities</th>\n",
       "    </tr>\n",
       "  </thead>\n",
       "  <tbody>\n",
       "    <tr>\n",
       "      <th>0</th>\n",
       "      <td>Hot &amp; Cold water|Credit cards accepted|Airpor...</td>\n",
       "      <td>New Soul Kiss Group of Houseboats |New Soul Ki...</td>\n",
       "      <td>hot &amp; cold water credit cards accepted airport...</td>\n",
       "    </tr>\n",
       "    <tr>\n",
       "      <th>1</th>\n",
       "      <td>Hot/cold Water |Parking Facility| Shower Area...</td>\n",
       "      <td>Hotel Raj International |Hotel Raj Internation...</td>\n",
       "      <td>hot cold water parking facility shower area mi...</td>\n",
       "    </tr>\n",
       "    <tr>\n",
       "      <th>2</th>\n",
       "      <td>Backup generator|Indoor Multi Cuisine Restaura...</td>\n",
       "      <td>Avisa Nila Beach Resort | Avisa Nila Beach Res...</td>\n",
       "      <td>backup generator indoor multi cuisine restaura...</td>\n",
       "    </tr>\n",
       "    <tr>\n",
       "      <th>3</th>\n",
       "      <td>Business centre|WiFiBathroom Toiletries |Baker...</td>\n",
       "      <td>Mayflower Hotel |Occupying a prime location on...</td>\n",
       "      <td>business centre wi fi bathroom toiletries bake...</td>\n",
       "    </tr>\n",
       "    <tr>\n",
       "      <th>4</th>\n",
       "      <td>Dining Table|Geyser In Bathroom|Bathroom Toile...</td>\n",
       "      <td>The Zara Residency Hotel Located in the heart ...</td>\n",
       "      <td>dining table geyser in bathroom bathroom toile...</td>\n",
       "    </tr>\n",
       "  </tbody>\n",
       "</table>\n",
       "</div>"
      ],
      "text/plain": [
       "                                     hotel_ameneties  \\\n",
       "0   Hot & Cold water|Credit cards accepted|Airpor...   \n",
       "1   Hot/cold Water |Parking Facility| Shower Area...   \n",
       "2  Backup generator|Indoor Multi Cuisine Restaura...   \n",
       "3  Business centre|WiFiBathroom Toiletries |Baker...   \n",
       "4  Dining Table|Geyser In Bathroom|Bathroom Toile...   \n",
       "\n",
       "                                property_description  \\\n",
       "0  New Soul Kiss Group of Houseboats |New Soul Ki...   \n",
       "1  Hotel Raj International |Hotel Raj Internation...   \n",
       "2  Avisa Nila Beach Resort | Avisa Nila Beach Res...   \n",
       "3  Mayflower Hotel |Occupying a prime location on...   \n",
       "4  The Zara Residency Hotel Located in the heart ...   \n",
       "\n",
       "                                  cleaened_aminities  \n",
       "0  hot & cold water credit cards accepted airport...  \n",
       "1  hot cold water parking facility shower area mi...  \n",
       "2  backup generator indoor multi cuisine restaura...  \n",
       "3  business centre wi fi bathroom toiletries bake...  \n",
       "4  dining table geyser in bathroom bathroom toile...  "
      ]
     },
     "execution_count": 6,
     "metadata": {},
     "output_type": "execute_result"
    }
   ],
   "source": [
    "\n",
    "\n",
    "# Preprocessing\n",
    "\n",
    "\n",
    "sno = nltk.stem.SnowballStemmer('english') #initialising the snowball stemmer which is developed in recent years\n",
    "stop=set(stopwords.words('english'))\n",
    "sno = nltk.stem.SnowballStemmer('english')\n",
    "\n",
    "\n",
    "\n",
    "\n",
    "\n",
    "def lemmatize_verbs(words):\n",
    "    lemmatizer = WordNetLemmatizer()\n",
    "    lemmas = []\n",
    "    for word in words.split():\n",
    "        #print(word)\n",
    "        lemma = lemmatizer.lemmatize(word)\n",
    "        lemmas.append(lemma)\n",
    "    return lemmas\n",
    "\n",
    "\n",
    "\n",
    "\n",
    "def remove_numbers(words):\n",
    "    new_words = [w for w in words if not w.isdigit()]\n",
    "    return new_words\n",
    "\n",
    "def strip_numbers(words):\n",
    "    new_words = [re.sub(r'\\d+', '', w) for w in words]\n",
    "    #new_words = [list(map(lambda x:re.sub(r'\\d+', '', x), words))]\n",
    "    \n",
    "    return new_words\n",
    "\n",
    "def remove_stopwords(words):\n",
    "    #print('removing stopwords')\n",
    "    new_words = []\n",
    "    for word in words:\n",
    "        if word not in stop:\n",
    "            new_words.append(word)\n",
    "    return new_words\n",
    "\n",
    "def cleanup(sent):\n",
    "    words = sent.split()\n",
    "    words = remove_numbers(words)\n",
    "    words = strip_numbers(words)\n",
    "    words = remove_stopwords(words)\n",
    "    return words\n",
    "\n",
    "def split_joinedword(sent):\n",
    "    res = []\n",
    "    for word in sent.split():\n",
    "        words = wordninja.split(word)\n",
    "        #print(words)\n",
    "        if words:\n",
    "            for w in words:\n",
    "                res.append( w )\n",
    "        else:\n",
    "            res.append(word)\n",
    "    #print(res)\n",
    "    return ' '.join(res)\n",
    "        \n",
    "        \n",
    "    #return ' '.join(wordninja.split(word) for word in sent.split())\n",
    "    \n",
    "def preprocess(sent):\n",
    "    sent = ' '.join(sent.split('|'))\n",
    "    sent = split_joinedword(sent)\n",
    "    sents = cleanup(sent)\n",
    "    return sent\n",
    "    \n",
    "#aminities = data['hotel_ameneties'].apply(lambda x:preprocess(x))\n",
    "\n",
    "\n",
    "data['cleaened_aminities'] = data['hotel_ameneties'].apply(lambda x:' '.join(x.split('|')))\n",
    "data['cleaened_aminities']  = data['cleaened_aminities'].apply(lambda x:split_joinedword(x))\n",
    "data['cleaened_aminities'] = data['cleaened_aminities'].apply(lambda x: cleanup(x))\n",
    "# aminities = cleanup(data['cleaened_aminities'].values)\n",
    "\n",
    "data['cleaened_aminities'] = data['cleaened_aminities'].apply(lambda x:(sno.stem(' '.join(x).lower())))\n",
    "data.head()\n"
   ]
  },
  {
   "cell_type": "code",
   "execution_count": 7,
   "id": "f52d3e63-55f7-4816-832f-220cbb145260",
   "metadata": {},
   "outputs": [
    {
     "name": "stdout",
     "output_type": "stream",
     "text": [
      "2287\n"
     ]
    }
   ],
   "source": [
    "#aminities = []\n",
    "aminities= list((data['hotel_ameneties'].apply(lambda x:x.split('|'))).values)\n",
    "aminities=[item for sublist in aminities for item in sublist]\n",
    "aminities = [x.strip().lower() for x in aminities]\n",
    "aminities = [x for x in aminities if x]\n",
    "aminities = list(set(aminities))\n",
    "\n",
    "\n",
    "print(len(aminities))\n",
    "#aminities"
   ]
  },
  {
   "cell_type": "code",
   "execution_count": 8,
   "id": "8c2a907c-20b7-4c3b-b75a-88544de6b517",
   "metadata": {},
   "outputs": [
    {
     "data": {
      "text/plain": [
       "(8750, 1156)"
      ]
     },
     "execution_count": 8,
     "metadata": {},
     "output_type": "execute_result"
    }
   ],
   "source": [
    "# Clustering\n",
    "\n",
    "\n",
    "from sklearn.feature_extraction.text import CountVectorizer\n",
    "count_vect = CountVectorizer()\n",
    "bow = count_vect.fit_transform(data['cleaened_aminities'].values)\n",
    "bow.shape"
   ]
  },
  {
   "cell_type": "code",
   "execution_count": 9,
   "id": "02c23ef1-259a-4353-a3d3-46164135addc",
   "metadata": {},
   "outputs": [
    {
     "name": "stderr",
     "output_type": "stream",
     "text": [
      "/Users/dharitripanigrahy/anaconda3/lib/python3.7/site-packages/sklearn/utils/deprecation.py:87: FutureWarning: Function get_feature_names is deprecated; get_feature_names is deprecated in 1.0 and will be removed in 1.2. Please use get_feature_names_out instead.\n",
      "  warnings.warn(msg, category=FutureWarning)\n"
     ]
    },
    {
     "data": {
      "text/plain": [
       "['act',\n",
       " 'activities',\n",
       " 'activity',\n",
       " 'acupunctur',\n",
       " 'acupuncture',\n",
       " 'adapters',\n",
       " 'adjoining',\n",
       " 'adsl',\n",
       " 'adventure',\n",
       " 'advised',\n",
       " 'aerobics',\n",
       " 'age',\n",
       " 'agency',\n",
       " 'agent',\n",
       " 'air',\n",
       " 'airline',\n",
       " 'airport',\n",
       " 'all',\n",
       " 'allergenic',\n",
       " 'allergy',\n",
       " 'allow',\n",
       " 'allowed',\n",
       " 'ally',\n",
       " 'alternative',\n",
       " 'am',\n",
       " 'amenities',\n",
       " 'amusement',\n",
       " 'and',\n",
       " 'anti',\n",
       " 'appli',\n",
       " 'applic',\n",
       " 'applicable',\n",
       " 'apply',\n",
       " 'appointed',\n",
       " 'aqua',\n",
       " 'aquarium',\n",
       " 'arcad',\n",
       " 'arcade',\n",
       " 'archery',\n",
       " 'area']"
      ]
     },
     "execution_count": 9,
     "metadata": {},
     "output_type": "execute_result"
    }
   ],
   "source": [
    "terms = count_vect.get_feature_names()\n",
    "terms[10:50]"
   ]
  },
  {
   "cell_type": "code",
   "execution_count": 10,
   "id": "e7d83df3-d589-4945-94e6-4619ecedce2e",
   "metadata": {},
   "outputs": [],
   "source": [
    "# Clustering\n",
    "\n",
    "clustering = AgglomerativeClustering(n_clusters=7, affinity=\"cosine\", linkage=\"average\").fit(bow.toarray())\n",
    "silhouette_score = metrics.silhouette_score(bow.toarray(), clustering.labels_, metric='cosine')\n",
    "ss = metrics.silhouette_samples(bow.toarray(), clustering.labels_, metric='cosine') \n",
    "\n",
    "\n",
    "res = data.copy()\n",
    "res['group'] = pd.Series(clustering.labels_+1)\n",
    "#res['Silhouette_Score'] = pd.Series(ss)"
   ]
  },
  {
   "cell_type": "code",
   "execution_count": 11,
   "id": "38d5cf4d-95cd-4e1b-a04e-7c807dc21382",
   "metadata": {},
   "outputs": [
    {
     "name": "stdout",
     "output_type": "stream",
     "text": [
      "0.3109976639366954\n"
     ]
    }
   ],
   "source": [
    "print(silhouette_score)"
   ]
  },
  {
   "cell_type": "code",
   "execution_count": 12,
   "id": "fdebf89e-6cea-476d-9d55-959d79dea198",
   "metadata": {},
   "outputs": [
    {
     "data": {
      "text/html": [
       "<div>\n",
       "<style scoped>\n",
       "    .dataframe tbody tr th:only-of-type {\n",
       "        vertical-align: middle;\n",
       "    }\n",
       "\n",
       "    .dataframe tbody tr th {\n",
       "        vertical-align: top;\n",
       "    }\n",
       "\n",
       "    .dataframe thead th {\n",
       "        text-align: right;\n",
       "    }\n",
       "</style>\n",
       "<table border=\"1\" class=\"dataframe\">\n",
       "  <thead>\n",
       "    <tr style=\"text-align: right;\">\n",
       "      <th></th>\n",
       "      <th>hotel_ameneties</th>\n",
       "      <th>property_description</th>\n",
       "      <th>cleaened_aminities</th>\n",
       "      <th>group</th>\n",
       "    </tr>\n",
       "  </thead>\n",
       "  <tbody>\n",
       "    <tr>\n",
       "      <th>0</th>\n",
       "      <td>Hot &amp; Cold water|Credit cards accepted|Airpor...</td>\n",
       "      <td>New Soul Kiss Group of Houseboats |New Soul Ki...</td>\n",
       "      <td>hot &amp; cold water credit cards accepted airport...</td>\n",
       "      <td>1</td>\n",
       "    </tr>\n",
       "    <tr>\n",
       "      <th>1</th>\n",
       "      <td>Hot/cold Water |Parking Facility| Shower Area...</td>\n",
       "      <td>Hotel Raj International |Hotel Raj Internation...</td>\n",
       "      <td>hot cold water parking facility shower area mi...</td>\n",
       "      <td>1</td>\n",
       "    </tr>\n",
       "    <tr>\n",
       "      <th>2</th>\n",
       "      <td>Backup generator|Indoor Multi Cuisine Restaura...</td>\n",
       "      <td>Avisa Nila Beach Resort | Avisa Nila Beach Res...</td>\n",
       "      <td>backup generator indoor multi cuisine restaura...</td>\n",
       "      <td>1</td>\n",
       "    </tr>\n",
       "    <tr>\n",
       "      <th>3</th>\n",
       "      <td>Business centre|WiFiBathroom Toiletries |Baker...</td>\n",
       "      <td>Mayflower Hotel |Occupying a prime location on...</td>\n",
       "      <td>business centre wi fi bathroom toiletries bake...</td>\n",
       "      <td>1</td>\n",
       "    </tr>\n",
       "    <tr>\n",
       "      <th>4</th>\n",
       "      <td>Dining Table|Geyser In Bathroom|Bathroom Toile...</td>\n",
       "      <td>The Zara Residency Hotel Located in the heart ...</td>\n",
       "      <td>dining table geyser in bathroom bathroom toile...</td>\n",
       "      <td>1</td>\n",
       "    </tr>\n",
       "  </tbody>\n",
       "</table>\n",
       "</div>"
      ],
      "text/plain": [
       "                                     hotel_ameneties  \\\n",
       "0   Hot & Cold water|Credit cards accepted|Airpor...   \n",
       "1   Hot/cold Water |Parking Facility| Shower Area...   \n",
       "2  Backup generator|Indoor Multi Cuisine Restaura...   \n",
       "3  Business centre|WiFiBathroom Toiletries |Baker...   \n",
       "4  Dining Table|Geyser In Bathroom|Bathroom Toile...   \n",
       "\n",
       "                                property_description  \\\n",
       "0  New Soul Kiss Group of Houseboats |New Soul Ki...   \n",
       "1  Hotel Raj International |Hotel Raj Internation...   \n",
       "2  Avisa Nila Beach Resort | Avisa Nila Beach Res...   \n",
       "3  Mayflower Hotel |Occupying a prime location on...   \n",
       "4  The Zara Residency Hotel Located in the heart ...   \n",
       "\n",
       "                                  cleaened_aminities  group  \n",
       "0  hot & cold water credit cards accepted airport...      1  \n",
       "1  hot cold water parking facility shower area mi...      1  \n",
       "2  backup generator indoor multi cuisine restaura...      1  \n",
       "3  business centre wi fi bathroom toiletries bake...      1  \n",
       "4  dining table geyser in bathroom bathroom toile...      1  "
      ]
     },
     "execution_count": 12,
     "metadata": {},
     "output_type": "execute_result"
    }
   ],
   "source": [
    "res.head()"
   ]
  },
  {
   "cell_type": "code",
   "execution_count": 13,
   "id": "c8d6fd80-b824-42e2-b0c1-486cd38fa9a5",
   "metadata": {},
   "outputs": [
    {
     "data": {
      "text/plain": [
       "1    8722\n",
       "7      13\n",
       "3      10\n",
       "2       2\n",
       "6       1\n",
       "4       1\n",
       "5       1\n",
       "Name: group, dtype: int64"
      ]
     },
     "execution_count": 13,
     "metadata": {},
     "output_type": "execute_result"
    }
   ],
   "source": [
    "res['group'].value_counts()"
   ]
  },
  {
   "cell_type": "code",
   "execution_count": 14,
   "id": "35153705-9df4-4797-afdc-112afb5f72c0",
   "metadata": {},
   "outputs": [],
   "source": [
    "#res[res['group']==1]"
   ]
  },
  {
   "cell_type": "code",
   "execution_count": null,
   "id": "7e21ffc0-0e5e-47ea-9ec8-48c779471b1b",
   "metadata": {},
   "outputs": [],
   "source": [
    "\n"
   ]
  },
  {
   "cell_type": "markdown",
   "id": "3465b7bb-116d-4e20-9e64-bcfba91f340e",
   "metadata": {},
   "source": [
    "# 2. Information Extraction "
   ]
  },
  {
   "cell_type": "code",
   "execution_count": 15,
   "id": "ebfd7642-7b6d-48d4-8399-99c03296f10f",
   "metadata": {},
   "outputs": [
    {
     "data": {
      "text/html": [
       "<div>\n",
       "<style scoped>\n",
       "    .dataframe tbody tr th:only-of-type {\n",
       "        vertical-align: middle;\n",
       "    }\n",
       "\n",
       "    .dataframe tbody tr th {\n",
       "        vertical-align: top;\n",
       "    }\n",
       "\n",
       "    .dataframe thead th {\n",
       "        text-align: right;\n",
       "    }\n",
       "</style>\n",
       "<table border=\"1\" class=\"dataframe\">\n",
       "  <thead>\n",
       "    <tr style=\"text-align: right;\">\n",
       "      <th></th>\n",
       "      <th>hotel_ameneties</th>\n",
       "      <th>property_description</th>\n",
       "      <th>cleaened_aminities</th>\n",
       "    </tr>\n",
       "  </thead>\n",
       "  <tbody>\n",
       "    <tr>\n",
       "      <th>0</th>\n",
       "      <td>Hot &amp; Cold water|Credit cards accepted|Airpor...</td>\n",
       "      <td>New Soul Kiss Group of Houseboats |New Soul Ki...</td>\n",
       "      <td>hot &amp; cold water credit cards accepted airport...</td>\n",
       "    </tr>\n",
       "    <tr>\n",
       "      <th>1</th>\n",
       "      <td>Hot/cold Water |Parking Facility| Shower Area...</td>\n",
       "      <td>Hotel Raj International |Hotel Raj Internation...</td>\n",
       "      <td>hot cold water parking facility shower area mi...</td>\n",
       "    </tr>\n",
       "    <tr>\n",
       "      <th>2</th>\n",
       "      <td>Backup generator|Indoor Multi Cuisine Restaura...</td>\n",
       "      <td>Avisa Nila Beach Resort | Avisa Nila Beach Res...</td>\n",
       "      <td>backup generator indoor multi cuisine restaura...</td>\n",
       "    </tr>\n",
       "    <tr>\n",
       "      <th>3</th>\n",
       "      <td>Business centre|WiFiBathroom Toiletries |Baker...</td>\n",
       "      <td>Mayflower Hotel |Occupying a prime location on...</td>\n",
       "      <td>business centre wi fi bathroom toiletries bake...</td>\n",
       "    </tr>\n",
       "    <tr>\n",
       "      <th>4</th>\n",
       "      <td>Dining Table|Geyser In Bathroom|Bathroom Toile...</td>\n",
       "      <td>The Zara Residency Hotel Located in the heart ...</td>\n",
       "      <td>dining table geyser in bathroom bathroom toile...</td>\n",
       "    </tr>\n",
       "  </tbody>\n",
       "</table>\n",
       "</div>"
      ],
      "text/plain": [
       "                                     hotel_ameneties  \\\n",
       "0   Hot & Cold water|Credit cards accepted|Airpor...   \n",
       "1   Hot/cold Water |Parking Facility| Shower Area...   \n",
       "2  Backup generator|Indoor Multi Cuisine Restaura...   \n",
       "3  Business centre|WiFiBathroom Toiletries |Baker...   \n",
       "4  Dining Table|Geyser In Bathroom|Bathroom Toile...   \n",
       "\n",
       "                                property_description  \\\n",
       "0  New Soul Kiss Group of Houseboats |New Soul Ki...   \n",
       "1  Hotel Raj International |Hotel Raj Internation...   \n",
       "2  Avisa Nila Beach Resort | Avisa Nila Beach Res...   \n",
       "3  Mayflower Hotel |Occupying a prime location on...   \n",
       "4  The Zara Residency Hotel Located in the heart ...   \n",
       "\n",
       "                                  cleaened_aminities  \n",
       "0  hot & cold water credit cards accepted airport...  \n",
       "1  hot cold water parking facility shower area mi...  \n",
       "2  backup generator indoor multi cuisine restaura...  \n",
       "3  business centre wi fi bathroom toiletries bake...  \n",
       "4  dining table geyser in bathroom bathroom toile...  "
      ]
     },
     "execution_count": 15,
     "metadata": {},
     "output_type": "execute_result"
    }
   ],
   "source": [
    "data.head()"
   ]
  },
  {
   "cell_type": "code",
   "execution_count": 16,
   "id": "cb46171b-bb04-4a33-906a-eb3690eefe0b",
   "metadata": {},
   "outputs": [],
   "source": [
    "def process_description(description):\n",
    "    sents = '. '.join(description.split('|'))\n",
    "    processed_token = []\n",
    "    for token in sents.split():\n",
    "        token = ''.join(e.lower() for e in token if e.isalnum())\n",
    "        processed_token.append(token)\n",
    "    #print(processed_token)\n",
    "    return ' '.join(processed_token)\n",
    "\n",
    "# d = \"The Zara Residency Hotel Located in the heart of Shillong City, The Zara Residency Hotel offers tastefully decorated accommodation in 29 deluxe rooms. It is maintained with a multi-cuisine restaurant and dining hall. There is secure parking facility within the hotel premises. Each modern room at the hotel is fitted with a flat-screen TV and a study table. Mineral Water is available at a charge. Private bathrooms come with a bath tub and shower facilities. Staff at the hotel can assist with laundry services as well as travel arrangements for guests who would like to go for local sightseeing. For convenience, Airport transfers are available at a surcharge. In addition to this, The Zara Residency Hotel offers a conference hall to organize all kind of corporate and social events.\"\n",
    "# process_description(d)\n",
    "    "
   ]
  },
  {
   "cell_type": "code",
   "execution_count": 17,
   "id": "4f616471-a6c8-46b0-ad4f-4f14c6304181",
   "metadata": {},
   "outputs": [],
   "source": [
    "# Extract info\n",
    "\n",
    "nlp = spacy.load('en_core_web_sm')\n",
    "count = 0\n",
    "\n",
    "def extract_info(description):\n",
    "    description = process_description(description)\n",
    "    #print(description)\n",
    "    #if count < 11:\n",
    "    dist_info = []\n",
    "    doc = nlp(description)\n",
    "    ents = [(e.text, e.label_) for e in doc.ents ]\n",
    "    #print(ents)\n",
    "    for i,ent in enumerate(ents):\n",
    "        if ent[1] == 'FAC':\n",
    "            try:\n",
    "                if ents[i-1][1] == 'QUANTITY':\n",
    "                    dist_info.append((ent[0], ents[i-1][0]))\n",
    "                elif ents[i+1][1] == 'QUANTITY':\n",
    "                    dist_info.append((ent[0], ents[i+1][0]))\n",
    "                else:\n",
    "\n",
    "                    dist_info.append((ent[0], 'NA'))\n",
    "            except:\n",
    "                pass\n",
    "    return dist_info\n",
    "\n",
    "\n",
    "#extract_info('Avisa Nila Beach Resort | Avisa Nila Beach Resort is located in a small town in the coastal region of Maharashtra, Malvan. It is at a distance of 132 km from Goa International Airport, 34 km from Kudal Railway Station and 27 km from Masure S.T Bus Stand.| The property has well equipped rooms with amenities like air conditioner, LED television, tea/coffee maker, safety locker and intercom facility. Each room has attached bathroom with 24 hours of hot and cold water. Hotel facilitates laundry services, generator backup and swimming pool for relaxation. The hotel has multi cuisine restaurant which serves delectable Malvani, Goan, North Indian, Chinese, Tandoor dishes.| Popular tourist attractions in Malvan are Tarkarli Beach (4 km), Tarkarli Beach (7 km), Rock Garden (9 km), Devbaug Beach (9 km), Jay Ganesh Mandir (9 km), Tsunami Island (10 km), Khapreshwar Mandir (11 km), Sindhudurg Fort (10 km), Anganewadi (21 km) and many more.| Have a pleasant and memorable stay at Avisa Nila Beach Resort!|')\n",
    "\n",
    "\n",
    "data['dist_info'] = data['property_description'].apply(lambda x:extract_info(x))\n",
    "    \n"
   ]
  },
  {
   "cell_type": "code",
   "execution_count": 18,
   "id": "b0e121c5-a771-4571-b12e-91c0cf2086ba",
   "metadata": {},
   "outputs": [
    {
     "data": {
      "text/html": [
       "<div>\n",
       "<style scoped>\n",
       "    .dataframe tbody tr th:only-of-type {\n",
       "        vertical-align: middle;\n",
       "    }\n",
       "\n",
       "    .dataframe tbody tr th {\n",
       "        vertical-align: top;\n",
       "    }\n",
       "\n",
       "    .dataframe thead th {\n",
       "        text-align: right;\n",
       "    }\n",
       "</style>\n",
       "<table border=\"1\" class=\"dataframe\">\n",
       "  <thead>\n",
       "    <tr style=\"text-align: right;\">\n",
       "      <th></th>\n",
       "      <th>hotel_ameneties</th>\n",
       "      <th>property_description</th>\n",
       "      <th>cleaened_aminities</th>\n",
       "      <th>dist_info</th>\n",
       "    </tr>\n",
       "  </thead>\n",
       "  <tbody>\n",
       "    <tr>\n",
       "      <th>0</th>\n",
       "      <td>Hot &amp; Cold water|Credit cards accepted|Airpor...</td>\n",
       "      <td>New Soul Kiss Group of Houseboats |New Soul Ki...</td>\n",
       "      <td>hot &amp; cold water credit cards accepted airport...</td>\n",
       "      <td>[]</td>\n",
       "    </tr>\n",
       "    <tr>\n",
       "      <th>1</th>\n",
       "      <td>Hot/cold Water |Parking Facility| Shower Area...</td>\n",
       "      <td>Hotel Raj International |Hotel Raj Internation...</td>\n",
       "      <td>hot cold water parking facility shower area mi...</td>\n",
       "      <td>[(jaisalmer fort bada, NA)]</td>\n",
       "    </tr>\n",
       "    <tr>\n",
       "      <th>2</th>\n",
       "      <td>Backup generator|Indoor Multi Cuisine Restaura...</td>\n",
       "      <td>Avisa Nila Beach Resort | Avisa Nila Beach Res...</td>\n",
       "      <td>backup generator indoor multi cuisine restaura...</td>\n",
       "      <td>[(goa international airport, 132 km), (avisa n...</td>\n",
       "    </tr>\n",
       "    <tr>\n",
       "      <th>3</th>\n",
       "      <td>Business centre|WiFiBathroom Toiletries |Baker...</td>\n",
       "      <td>Mayflower Hotel |Occupying a prime location on...</td>\n",
       "      <td>business centre wi fi bathroom toiletries bake...</td>\n",
       "      <td>[(mln road, NA), (kaziranga national park kama...</td>\n",
       "    </tr>\n",
       "    <tr>\n",
       "      <th>4</th>\n",
       "      <td>Dining Table|Geyser In Bathroom|Bathroom Toile...</td>\n",
       "      <td>The Zara Residency Hotel Located in the heart ...</td>\n",
       "      <td>dining table geyser in bathroom bathroom toile...</td>\n",
       "      <td>[]</td>\n",
       "    </tr>\n",
       "  </tbody>\n",
       "</table>\n",
       "</div>"
      ],
      "text/plain": [
       "                                     hotel_ameneties  \\\n",
       "0   Hot & Cold water|Credit cards accepted|Airpor...   \n",
       "1   Hot/cold Water |Parking Facility| Shower Area...   \n",
       "2  Backup generator|Indoor Multi Cuisine Restaura...   \n",
       "3  Business centre|WiFiBathroom Toiletries |Baker...   \n",
       "4  Dining Table|Geyser In Bathroom|Bathroom Toile...   \n",
       "\n",
       "                                property_description  \\\n",
       "0  New Soul Kiss Group of Houseboats |New Soul Ki...   \n",
       "1  Hotel Raj International |Hotel Raj Internation...   \n",
       "2  Avisa Nila Beach Resort | Avisa Nila Beach Res...   \n",
       "3  Mayflower Hotel |Occupying a prime location on...   \n",
       "4  The Zara Residency Hotel Located in the heart ...   \n",
       "\n",
       "                                  cleaened_aminities  \\\n",
       "0  hot & cold water credit cards accepted airport...   \n",
       "1  hot cold water parking facility shower area mi...   \n",
       "2  backup generator indoor multi cuisine restaura...   \n",
       "3  business centre wi fi bathroom toiletries bake...   \n",
       "4  dining table geyser in bathroom bathroom toile...   \n",
       "\n",
       "                                           dist_info  \n",
       "0                                                 []  \n",
       "1                        [(jaisalmer fort bada, NA)]  \n",
       "2  [(goa international airport, 132 km), (avisa n...  \n",
       "3  [(mln road, NA), (kaziranga national park kama...  \n",
       "4                                                 []  "
      ]
     },
     "execution_count": 18,
     "metadata": {},
     "output_type": "execute_result"
    }
   ],
   "source": [
    "data.head()"
   ]
  },
  {
   "cell_type": "code",
   "execution_count": 20,
   "id": "b305033e-75a6-44d1-9803-f6f3b1b85233",
   "metadata": {},
   "outputs": [
    {
     "data": {
      "text/plain": [
       "(8750, 4)"
      ]
     },
     "execution_count": 20,
     "metadata": {},
     "output_type": "execute_result"
    }
   ],
   "source": [
    "data.shape"
   ]
  },
  {
   "cell_type": "code",
   "execution_count": 21,
   "id": "2c3ca1c6-94e8-4797-8648-07cb882455ec",
   "metadata": {},
   "outputs": [
    {
     "name": "stdout",
     "output_type": "stream",
     "text": [
      "(8250, 4)\n",
      "(500, 4)\n"
     ]
    }
   ],
   "source": [
    "train_df = data.iloc[:8250,:]\n",
    "test_df = data.iloc[8250:, :]\n",
    "print(train_df.shape)\n",
    "print(test_df.shape)"
   ]
  },
  {
   "cell_type": "markdown",
   "id": "b9887108-daa4-4e6e-a149-07fe3aabcccc",
   "metadata": {},
   "source": [
    "# 3. train NER for aminities"
   ]
  },
  {
   "cell_type": "code",
   "execution_count": 22,
   "id": "22f3a958-48f0-46fb-9bb3-e69120a168fd",
   "metadata": {},
   "outputs": [
    {
     "name": "stdout",
     "output_type": "stream",
     "text": [
      "[('new soul kiss group of houseboats  new soul kiss group of houseboats is situated in srinagar a place which truly symbolizes beauty and romance and is rightly known as the venice of the east jammu and kashmirs summer capital  literally implies city of affluence bounty guest can opt for various means to travel to srinagar srinagar airport is the clostes airport srinagar airport are the nearest airport and there are regular buses to srinagar from other major cities of the country the hotel provides various amenities like wifi internet access doctor on call facility credit card accepted laundry service dry cleaning room and housekeeping service ensures the comfortable stay of the guest long with the cleanliness of the hotel the clean and ventilated rooms in the hotel are wellmaintained and comes with amenities like television telephone hot and cold water the rooms here are perfectly designed and crafted as per the taste of guests to make their stay relaxed and comfortable guest can request for extra bed and mattress and also avail airport transfer by paying an additional charge the special charm and the cosy mood of new soul kiss group of houseboats makes the stay worthwhile', {'entities': [(524, 528, 'aminities'), (590, 597, 'aminities'), (628, 640, 'aminities'), (823, 833, 'aminities'), (834, 843, 'aminities')]}), ('hotel raj international  hotel raj international is a budget property located at an accessible distance from airport railway station and bus station an economy class hotel offers accommodation in hygienic environment with necessary day to day requirement the property renders facilities like doctor on call on request travel desk and parking chargeable services include airport transfer laundry service taxi services and railway station transfer in room amenities cable television intercom mineral water chargeable iron and ironing board on request daily newspaper study table and bathroom with shower area and hotcold water toiletries the hotel is also an ideal place for those who come for sightseeing purposes as the hotel is very near to many sightseeing places that include jaisalmer fort bada bagh salim singh ki haveli gadsisar lake and tazia tower experience a comfortable and memorable stay with warm hospitality at hotel raj international', {'entities': [(208, 212, 'aminities'), (325, 329, 'aminities'), (334, 341, 'aminities'), (387, 394, 'aminities'), (470, 480, 'aminities'), (481, 489, 'aminities'), (555, 564, 'aminities'), (595, 601, 'aminities'), (692, 703, 'aminities')]}), ('avisa nila beach resort  avisa nila beach resort is located in a small town in the coastal region of maharashtra malvan it is at a distance of 132 km from goa international airport 34 km from kudal railway station and 27 km from masure st bus stand the property has well equipped rooms with amenities like air conditioner led television teacoffee maker safety locker and intercom facility each room has attached bathroom with 24 hours of hot and cold water hotel facilitates laundry services generator backup and swimming pool for relaxation the hotel has multi cuisine restaurant which serves delectable malvani goan north indian chinese tandoor dishes popular tourist attractions in malvan are tarkarli beach 4 km tarkarli beach 7 km rock garden 9 km devbaug beach 9 km jay ganesh mandir 9 km tsunami island 10 km khapreshwar mandir 11 km sindhudurg fort 10 km anganewadi 21 km and many more have a pleasant and memorable stay at avisa nila beach resort', {'entities': [(310, 321, 'aminities'), (326, 336, 'aminities'), (371, 379, 'aminities'), (475, 482, 'aminities'), (570, 580, 'aminities'), (741, 747, 'aminities')]}), ('mayflower hotel  occupying a prime location on the famous mln road of panbazar area mayflower hotel is located at the distance of 800 m from guwahati railway station and 850 m from state transport bus stand the nearest airport to the hotel is lokpriya gopinath bordoloi international airport to explore popular tourist destinations in and around the city guests can seek tour desks help of travel desk some of the famous tourist attractions of guwahati are kaziranga national park kamakhya temple uma nanda temple pobitura wild life sanctuary and saraighat bridge hotel features facilities like front desk house keeping laundry service room service valetparking doctoroncall currency exchange and wifi are offered by this property the hotel houses a welldesigned guestrooms some of the amenities common to all rooms are led television with satellite channels fruit basket and cookies mini bar safe deposit lockers and wifi connectivity the strategic location and signature hospitality of hotel makes it an ideal stay option for business travelers guests can use conference hall fitted with latest facilities like high speed internet access to conduct meetings and conferences guests can have perfect arrangement for social gatherings in banquet hall of hotel aurora is the inhouse multicuisine restaurant which serves delectable indian continental and chinese delicacies head to the onsite bar relish evening drinks and spend some quality time with friends at the inhouse bar the zone which is stocked with choicest spirits have a delightful stay at mayflower hotel', {'entities': [(376, 380, 'aminities'), (620, 627, 'aminities'), (697, 701, 'aminities'), (824, 834, 'aminities'), (876, 883, 'aminities'), (889, 892, 'aminities'), (893, 897, 'aminities'), (1294, 1304, 'aminities')]}), ('the zara residency hotel located in the heart of shillong city the zara residency hotel offers tastefully decorated accommodation in 29 deluxe rooms it is maintained with a multicuisine restaurant and dining hall there is secure parking facility within the hotel premises each modern room at the hotel is fitted with a flatscreen tv and a study table mineral water is available at a charge private bathrooms come with a bath tub and shower facilities staff at the hotel can assist with laundry services as well as travel arrangements for guests who would like to go for local sightseeing for convenience airport transfers are available at a surcharge in addition to this the zara residency hotel offers a conference hall to organize all kind of corporate and social events', {'entities': [(186, 196, 'aminities'), (229, 236, 'aminities'), (330, 332, 'aminities'), (433, 439, 'aminities'), (486, 493, 'aminities'), (576, 587, 'aminities')]}), ('hotel mamta palace hotel mamta palace is a budget property located at a distance of 176 km from udaipur airport 274 km from brahma kumaris railway station and 26 km from bus stand the hotel is in close proximity to various tourist excursions like nakki lake 1 km adhar devi temple 14 km dilwara jain temples 26 km achalgarh fort 95 km and guru shikhar 145 km for meeting the comfort levels of our guests our hotel renders the excellent facilities like parking facility doctor on call laundry services taxi services and airportrailway station transfer a host of modern amenities such as cable television air conditioning mineral water sofa unit dinning area intercom facility in addition the bathrooms provides shower area geyser hotcold water supply and essential bathroom toiletries are provided in each room to ensure a comfortable stay of guests guest can step into the inhouse restaurant dishes out the best of indian and international delicacies to cajole the tastebudsto savour lipsmacking fare guests can head to different restaurants which are located close to the hotel enjoy unique and spellbinding views of the eternal city when staying at the hotel mamta palace', {'entities': [(231, 241, 'aminities'), (452, 459, 'aminities'), (484, 491, 'aminities'), (592, 602, 'aminities'), (634, 638, 'aminities'), (644, 651, 'aminities'), (657, 665, 'aminities'), (710, 716, 'aminities'), (722, 728, 'aminities'), (881, 891, 'aminities')]}), ('hotel alayla  hotel alayla is a budget property located at a distance of 12 kms from netaji subhash chandra bose international airport and 18 kms from kolkata the hotel offers accommodation in wellfurnished rooms equipped with basic amenities like air conditioning cable television telephone study table and mineral water on request daily newspaper on request and bathroom with hotcold water room service and parking facility is available at hotel alayla doctor on call laundry and taxi service are also provided at a charge the hotel enjoys close proximity to dum dum lake and lake town however mother tresas home 1 km indian museum 2 km victoria memorial 2 km and birla planetorium 3 km are also easily accessible from the hotel have a wonderful stay at hotel alayla', {'entities': [(271, 281, 'aminities'), (282, 291, 'aminities'), (339, 348, 'aminities'), (409, 416, 'aminities'), (470, 477, 'aminities'), (627, 633, 'aminities')]}), ('valley view avenue valley view avenue is nestled in wayadan which is situated at the top brim of a big valley that starts with kanthanpara waterfalls and ends at the arabian sea the misty and cold climate makes this property a total differential dreamlike and awesome experience famous tourism attraction like soojipara falls meenmutty water fall chembra peak kanthan para water fall and edakkal caves are within 25 km distance from the property the charming waterfall view from the cottage is forming the loving moments and memories the forest waterfall and the big valley make this property the most beautiful and an ideal place in wayanad the hotel offers facilities like wifi travel desk front desk parking laundry and many more in case of medical emergency doctor on call facility is also provided by the hotel for funfilled and exotic stay recreational activities like trekking wild life safari boating bird watching are also arranged by the hotel one can start their day with a healthy workout at fitness center and can rejuvenate themselves by taking a refreshing bath at forest stream near by valley view avenue also serves varied range of kerala delicacies that will surely pamper the taste buds guests can dine and spend time with their loved ones they can also avail rejuvenating massage therapies and treatments at the inhouse spa with the elegant interior and exterior of the resort  it ensure comfortable and hassle free stay for guests providing amenities like cable television telephone hot water room service and attached bathroom with essential toiletries this property is an ideal pick for spending a peaceful vacation away from the city din', {'entities': [(139, 148, 'aminities'), (675, 679, 'aminities'), (687, 691, 'aminities'), (703, 710, 'aminities'), (711, 718, 'aminities'), (875, 883, 'aminities'), (894, 900, 'aminities'), (901, 908, 'aminities'), (1292, 1299, 'aminities'), (1340, 1343, 'aminities'), (1483, 1493, 'aminities'), (1494, 1503, 'aminities')]}), ('megha residency a budget property megha residency is located at a distance of 156 km from mangalore international airport 58 km from mangalore junction and 2 km from mangalore city bus stand the hotel is in the close proximity to various tourist places like st aloysius chapel170 m milagres church900 m kudroli gokarnath temple26 km kadri manjunath temple27 km and panambur beach117 km the hotel houses a business centre and conference hall high speed internet access is provided air conditioned rooms are equipped with a cable television intercom teacoffee maker and a work desk ironing facilities are provided upon request attached bathrooms include shower and geyser facility the hotels tour desk assists in day trips and car rentals for convenience railwayairport transfers shuttle service and guide service are offered some of the facilities are available upon guests request a perfect place for leisure traveller', {'entities': [(528, 538, 'aminities'), (539, 547, 'aminities'), (575, 579, 'aminities'), (652, 658, 'aminities'), (663, 669, 'aminities'), (778, 785, 'aminities')]}), ('the palace belvedere nestled close to nainital lake the palace belvedere offers a regal rich and ergonomic experience in its comfortable and modern rooms fitted with all the worldly conveniences it is picturesquely set amongst the scenic beauty of the famous hill station nainital in kumaon inroom amenities include cable television intercom teacoffee maker study table and en suite wellappointed bathrooms guests can visit the tourist spots such as naina peak 35 km nainital tiffin top 39 km harat ratna pt govind ballabh pant high altitude zoo 3 km raj bhawan 35 km and eco cave garden 26 km this heritage property offers several facilities to its guests to ensure a comfortable and relaxing stay the facilities include wifi connectivity 24 hours room service laundry yoga classes guide service and parking space business travellers can make use of inhouse conference hall and business centre fitted with all the modern gadgets to hold significant meetings and seminars it also affords a panoramic view of the famuos naini lake which finds mention in the skanda puranas as a place of meditation restaurant at the hotel dishes out scrumptious and enticing indian continental and chinese cuisines to satiate the taste buds guests can enjoy mesmerizing view of lush landscape along with savouring the delicious delicacies experience a royal and regal stay at this beautiful a century old heritage property', {'entities': [(322, 332, 'aminities'), (333, 341, 'aminities'), (581, 587, 'aminities'), (722, 726, 'aminities'), (762, 769, 'aminities'), (770, 774, 'aminities'), (801, 808, 'aminities'), (1086, 1096, 'aminities'), (1097, 1107, 'aminities')]})]\n"
     ]
    }
   ],
   "source": [
    "# create traindata\n",
    "\n",
    "count = 0\n",
    "TRAIN_DATA = []\n",
    "for _, item in train_df.iterrows():\n",
    "    ent_dict = {}\n",
    "    if count < 1000:\n",
    "        description = process_description(item['property_description'])\n",
    "        #We will find aminities and its positions once and add to the visited items.\n",
    "        visited_items = []\n",
    "        entities = []\n",
    "        final_entities = []\n",
    "        for token in description.split():\n",
    "            if token in aminities:\n",
    "                for i in re.finditer(token, description):\n",
    "                    if token not in visited_items:\n",
    "                        \n",
    "                        entity = (i.span()[0], i.span()[1], 'aminities')\n",
    "                        visited_items.append(token)\n",
    "                        entities.append(entity)\n",
    "                        \n",
    "        entities.sort(key=lambda a: a[0])\n",
    "        #print('ent', entities)\n",
    "        \n",
    "        prev_end = 0\n",
    "        for item in entities:\n",
    "            if item[0] < prev_end:\n",
    "                continue\n",
    "            else:\n",
    "                final_entities.append(item)\n",
    "                prev_end = item[1]\n",
    "\n",
    "        if len(final_entities) > 0:\n",
    "            ent_dict['entities'] = final_entities\n",
    "            train_item = (description, ent_dict)\n",
    "            TRAIN_DATA.append(train_item)\n",
    "            count+=1\n",
    "            \n",
    "print(TRAIN_DATA[:10])"
   ]
  },
  {
   "cell_type": "code",
   "execution_count": 23,
   "id": "93ede4e8-80ff-49fa-956d-2ba85b66dc85",
   "metadata": {},
   "outputs": [],
   "source": [
    "n_iter = 20\n",
    "def train():\n",
    "    nlp = spacy.blank(\"en\")  # create blank Language class\n",
    "    print(\"Created blank 'en' model\")\n",
    "    \n",
    "    if \"ner\" not in nlp.pipe_names:\n",
    "        ner = nlp.create_pipe(\"ner\")\n",
    "        nlp.add_pipe(ner, last=True)\n",
    "    # otherwise, get it so we can add labels\n",
    "    else:\n",
    "        ner = nlp.get_pipe(\"ner\")\n",
    "        \n",
    "    # add labels\n",
    "    for _, annotations in TRAIN_DATA:\n",
    "        for ent in annotations.get(\"entities\"):\n",
    "            ner.add_label(ent[2])\n",
    "            \n",
    "    nlp.begin_training()\n",
    "    for itn in range(n_iter):\n",
    "        random.shuffle(TRAIN_DATA)\n",
    "        losses = {}\n",
    "        # batch up the examples using spaCy's minibatch\n",
    "        batches = minibatch(TRAIN_DATA, size=compounding(2.0, 32.0, 1.001))\n",
    "        for batch in batches:\n",
    "            texts, annotations = zip(*batch)\n",
    "            nlp.update(\n",
    "                texts,  # batch of texts\n",
    "                annotations,  # batch of annotations\n",
    "                drop=0.2,  # dropout - make it harder to memorise data\n",
    "                losses=losses,\n",
    "            )\n",
    "        print(\"Losses\", losses)\n",
    "    return nlp"
   ]
  },
  {
   "cell_type": "code",
   "execution_count": null,
   "id": "a9098665-e777-4e50-9880-433baee5c261",
   "metadata": {},
   "outputs": [
    {
     "name": "stdout",
     "output_type": "stream",
     "text": [
      "Created blank 'en' model\n",
      "Losses {'ner': 4837.760885646535}\n",
      "Losses {'ner': 1731.8081120471813}\n",
      "Losses {'ner': 1539.4208020526305}\n",
      "Losses {'ner': 1431.171797600743}\n",
      "Losses {'ner': 1282.3547024254412}\n",
      "Losses {'ner': 1145.6030455345685}\n",
      "Losses {'ner': 1092.6857087399387}\n",
      "Losses {'ner': 1026.8319042718433}\n",
      "Losses {'ner': 968.254744268381}\n"
     ]
    }
   ],
   "source": [
    "#  train custom model with the training data\n",
    "nlp2 = train()"
   ]
  },
  {
   "cell_type": "code",
   "execution_count": null,
   "id": "d54491cb-c554-4fcc-9273-8a480ea6d0bc",
   "metadata": {},
   "outputs": [],
   "source": [
    "for text, _ in TRAIN_DATA[:10]:\n",
    "    doc = nlp2(text)\n",
    "    print(\"Entities\", [(ent.text, ent.label_) for ent in doc.ents])"
   ]
  },
  {
   "cell_type": "code",
   "execution_count": null,
   "id": "b386621e-5f7b-40dd-b823-7ffbec0892df",
   "metadata": {},
   "outputs": [],
   "source": [
    "test_data = test_df.iloc[:, :]['property_description']\n",
    "for description in test_data:\n",
    "    description = process_description(description)\n",
    "    print(description)\n",
    "    doc = nlp2(description)\n",
    "    print(\"Entities\", [(ent.text, ent.label_) for ent in doc.ents])\n",
    "    print('________________________')"
   ]
  },
  {
   "cell_type": "code",
   "execution_count": null,
   "id": "43dbf6a9-b78e-4688-8b22-ed59e481a357",
   "metadata": {},
   "outputs": [],
   "source": []
  }
 ],
 "metadata": {
  "kernelspec": {
   "display_name": "Python 3 (ipykernel)",
   "language": "python",
   "name": "python3"
  },
  "language_info": {
   "codemirror_mode": {
    "name": "ipython",
    "version": 3
   },
   "file_extension": ".py",
   "mimetype": "text/x-python",
   "name": "python",
   "nbconvert_exporter": "python",
   "pygments_lexer": "ipython3",
   "version": "3.7.3"
  }
 },
 "nbformat": 4,
 "nbformat_minor": 5
}
